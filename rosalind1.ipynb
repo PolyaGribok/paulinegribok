{
 "cells": [
  {
   "cell_type": "code",
   "execution_count": null,
   "id": "6fea6277-072c-4414-8c51-de6098055d71",
   "metadata": {},
   "outputs": [],
   "source": [
    "def fibonacci(n):                              #Фибоначчи\n",
    "    if n == 0:\n",
    "        return 0\n",
    "    elif n == 1:\n",
    "        return 1                               #для 0 и 1 есть фиксированные значения\n",
    "    else:\n",
    "        a, b = 0, 1\n",
    "        for i in range(2, n + 1):\n",
    "            a, b = b, a + b\n",
    "        return b\n",
    "n = int(input())\n",
    "print(fibonacci(n))"
   ]
  },
  {
   "cell_type": "code",
   "execution_count": null,
   "id": "c626d997-8e3c-4a95-b85a-a34395616af2",
   "metadata": {},
   "outputs": [],
   "source": [
    "def calculate_degrees():                         #задача на вершины\n",
    "    first_line = input().split()\n",
    "    n = int(first_line[0])\n",
    "    m = int(first_line[1])\n",
    "    degrees_list = []                            #список степеней вершин\n",
    "    for i in range(n + 1):\n",
    "        degrees_list.append(0)\n",
    "    edges = []                                   #читаем рёбра\n",
    "    for i in range(m):\n",
    "        line = input().split()\n",
    "        u = int(line[0])\n",
    "        v = int(line[1])\n",
    "        edges.append((u, v))\n",
    "    for edge in edges:                           #обрабатываем рёбра\n",
    "        u = edge[0]\n",
    "        v = edge[1]\n",
    "        degrees_list[u] = degrees_list[u] + 1\n",
    "        degrees_list[v] = degrees_list[v] + 1\n",
    "    result = \"\"                                  #вывод результата для всех вершин\n",
    "    for vertex in range(1, n + 1):\n",
    "        result += str(degrees_list[vertex]) + \" \"\n",
    "    print(result)\n",
    "calculate_degrees()"
   ]
  },
  {
   "cell_type": "code",
   "execution_count": null,
   "id": "488027c8-7b2a-4491-928f-af1146c55d8a",
   "metadata": {},
   "outputs": [],
   "source": [
    "def calculate_swaps(array):                                                      #сортировка вставками\n",
    "    swap_count = 0\n",
    "    size = len(array)                                                            #получаем длину массива\n",
    "\n",
    "    for current_position in range(1, size):\n",
    "        current_value = array[current_position]\n",
    "        compare_position = current_position - 1\n",
    "\n",
    "        while compare_position >= 0 and array[compare_position] > current_value:\n",
    "            array[compare_position + 1] = array[compare_position]                 #сдвигаем большой элемент вправо\n",
    "            swap_count += 1                                                       #увеличиваем счётчик перестановок\n",
    "            compare_position -= 1                                                 #двигаемся дальше влево\n",
    " \n",
    "        array[compare_position + 1] = current_value                               #вставляем наш элемент на найденное правильное место\n",
    "    \n",
    "    return swap_count                                                             #возвращаем общее количество перестановок\n",
    "\n",
    "n = int(input().strip())                                                          #читаем количество элементов\n",
    "input_array = list(map(int, input().split()))                                     #читаем массив чисел\n",
    "\n",
    "result = calculate_swaps(input_array)                                             #вызываем функцию\n",
    "print(result)"
   ]
  },
  {
   "cell_type": "code",
   "execution_count": null,
   "id": "71218c89-0f7e-4e7c-b084-d7b98933c6e5",
   "metadata": {},
   "outputs": [],
   "source": [
    "def count_nucleotides(dna_string):                                #задача на подсчёт нуклеотидов\n",
    "    count_A = 0                                                   #счётчики        \n",
    "    count_C = 0\n",
    "    count_G = 0  \n",
    "    count_T = 0\n",
    "\n",
    "    for symbol in dna_string:                                     #подсчитываем каждую букву\n",
    "        if symbol == 'A':\n",
    "            count_A += 1\n",
    "        elif symbol == 'C':\n",
    "            count_C += 1\n",
    "        elif symbol == 'G':\n",
    "            count_G += 1\n",
    "        elif symbol == 'T':\n",
    "            count_T += 1\n",
    "    \n",
    "    return count_A, count_C, count_G, count_T                     #возвращаем результат\n",
    "    \n",
    "dna_input = input().strip()                                       #читаем и удаляем пробелы в начале и конце\n",
    "a_count, c_count, g_count, t_count = count_nucleotides(dna_input) #вызов функции\n",
    "print(f\"{a_count} {c_count} {g_count} {t_count}\")                 #печатаем результат"
   ]
  },
  {
   "cell_type": "code",
   "execution_count": null,
   "id": "437a3133-13f9-4127-a4e8-b1700e9ea9d5",
   "metadata": {},
   "outputs": [],
   "source": [
    "def transcribe_dna_to_rna(dna_sequence):                    #перевод днк в рнк\n",
    "    return dna_sequence.replace('T', 'U')                   #замена T на U\n",
    "\n",
    "dna_input = input().strip()                                 #читаем и удаляем пробелы в начале и конце\n",
    "rna_output = transcribe_dna_to_rna(dna_input)\n",
    "print(rna_output)"
   ]
  },
  {
   "cell_type": "code",
   "execution_count": null,
   "id": "a06ec330-fb4d-4e6f-8867-2b8f138ad287",
   "metadata": {
    "scrolled": true
   },
   "outputs": [],
   "source": [
    "def reverse_complement(dna_string):                                      #задача на комплименты\n",
    "    \n",
    "    complement = {'A': 'T', 'T': 'A', 'C': 'G', 'G': 'C'}                #словарь комплиментов\n",
    "    \n",
    "    reversed_dna = dna_string[::-1]                                      # переворачиваем строку\n",
    "    result = ''\n",
    "    \n",
    "    for symbol in reversed_dna:\n",
    "        result += complement[symbol]\n",
    "    \n",
    "    return result\n",
    "    \n",
    "dna_input = input().strip()                                                #читаем и очищаем ввод\n",
    "result = reverse_complement(dna_input)                                     #вычисляем обратный комплемент\n",
    "print(result)"
   ]
  },
  {
   "cell_type": "code",
   "execution_count": null,
   "id": "fb595a36-9976-4268-b36c-a4b18cff9fa6",
   "metadata": {},
   "outputs": [],
   "source": [
    "def fibonacci_rabbits(n, k):                                               #Фибоначчи и кролики\n",
    "    if n == 1 or n == 2:                                                   # Базовые случаи\n",
    "        return 1\n",
    "    \n",
    "    prev1 = 1\n",
    "    prev2 = 1 \n",
    "\n",
    "    for month in range(3, n + 1):                                          #вычисляем последовательность\n",
    "        current = prev1 + k * prev2\n",
    "        prev2 = prev1\n",
    "        prev1 = current\n",
    "    \n",
    "    return prev1\n",
    "\n",
    "data = input().split()\n",
    "n = int(data[0])                                                            #кол-во месяцев\n",
    "k = int(data[1])                                                            #кол-во кроликов в помёте\n",
    "\n",
    "result = fibonacci_rabbits(n, k)\n",
    "print(result)"
   ]
  }
 ],
 "metadata": {
  "kernelspec": {
   "display_name": "Python [conda env:base] *",
   "language": "python",
   "name": "conda-base-py"
  },
  "language_info": {
   "codemirror_mode": {
    "name": "ipython",
    "version": 3
   },
   "file_extension": ".py",
   "mimetype": "text/x-python",
   "name": "python",
   "nbconvert_exporter": "python",
   "pygments_lexer": "ipython3",
   "version": "3.12.7"
  }
 },
 "nbformat": 4,
 "nbformat_minor": 5
}
